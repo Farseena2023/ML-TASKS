{
 "cells": [
  {
   "cell_type": "markdown",
   "id": "796b441b-4d80-4f24-9d93-a078d937a1a9",
   "metadata": {},
   "source": [
    "# Hypothesis testing "
   ]
  },
  {
   "cell_type": "markdown",
   "id": "2e3e2c7b-7057-47cf-b946-192f9c8913cf",
   "metadata": {},
   "source": [
    "Q1.Suppose a child psychologist claims that the average time working mothers spend talking to their children is at least 11 minutes per day. You conduct a random sample of 1000 working mothers and find they spend an average of 11.5 minutes per day talking with their children. Assume prior research suggests the population standard deviation is 2.3 minutes.Conduct a test with a level of significance of alpha = 0.05"
   ]
  },
  {
   "cell_type": "code",
   "execution_count": 1,
   "id": "0d7019e9-7756-4d15-9c01-b56108d1d15b",
   "metadata": {},
   "outputs": [],
   "source": [
    "import scipy.stats as stats"
   ]
  },
  {
   "cell_type": "code",
   "execution_count": 2,
   "id": "49b5f840-11d5-4002-9d09-817299c4081b",
   "metadata": {},
   "outputs": [],
   "source": [
    "# given data\n",
    "# population mean under null hypothesis\n",
    "mean=11\n",
    "sample_size=1000    \n",
    "sample_mean=11.5\n",
    "# standard deviation of population\n",
    "sd=2.3 \n",
    "# significance level\n",
    "alpha=0.05         \n"
   ]
  },
  {
   "cell_type": "code",
   "execution_count": 8,
   "id": "f51546e0-5226-471e-8904-542cb10bbd5a",
   "metadata": {},
   "outputs": [
    {
     "name": "stdout",
     "output_type": "stream",
     "text": [
      "Z_score :  6.874516652539955\n"
     ]
    }
   ],
   "source": [
    "# calculate z test statistics\n",
    "z_score=(sample_mean-mean)/(sd/(sample_size**0.5))\n",
    "print(\"Z_score : \",z_score)"
   ]
  },
  {
   "cell_type": "code",
   "execution_count": 7,
   "id": "575dc4bc-f5e1-4b07-9f45-fb0827ef90bd",
   "metadata": {},
   "outputs": [
    {
     "name": "stdout",
     "output_type": "stream",
     "text": [
      "Critical_value : 1.6448536269514722\n"
     ]
    }
   ],
   "source": [
    "# calculate the critical value\n",
    "critical_value=stats.norm.ppf(1-alpha)\n",
    "print(\"Critical_value :\",critical_value)"
   ]
  },
  {
   "cell_type": "code",
   "execution_count": 9,
   "id": "334ba462-8ded-49e4-83d9-828da7ab6df2",
   "metadata": {},
   "outputs": [
    {
     "name": "stdout",
     "output_type": "stream",
     "text": [
      "Reject null hypothesis\n"
     ]
    }
   ],
   "source": [
    "# compare the z score with the critical value and make a decision\n",
    "if z_score>critical_value:\n",
    "    print(\"Reject null hypothesis\")\n",
    "else:\n",
    "    print(\"Fail to reject null hypothesis\")\n"
   ]
  },
  {
   "cell_type": "markdown",
   "id": "ea79fbdd-e576-4d0d-ad3d-c2e0d13a2059",
   "metadata": {},
   "source": [
    "Q2. A coffee shop claims that their average wait time for customers is less than 5 minutes. To test this claim, a sample of 40 customers is taken, and their wait times are recorded. The sample mean wait time is found to be 4.6 minutes with a standard deviation of 0.8 minutes. Perform a hypothesis test at a significance level of 0.05 and determine whether there is enough evidence to support the coffee shop's"
   ]
  },
  {
   "cell_type": "code",
   "execution_count": 10,
   "id": "9a58ba96-035c-4798-a103-e1502f77df8c",
   "metadata": {},
   "outputs": [],
   "source": [
    "import scipy.stats as stats"
   ]
  },
  {
   "cell_type": "code",
   "execution_count": 11,
   "id": "e1cba2a3-4dee-4df1-a353-63d3ff8d4300",
   "metadata": {},
   "outputs": [],
   "source": [
    "# given data\n",
    "# population mean under null hypothesis\n",
    "mean=5   \n",
    "sample_size=40\n",
    "sample_mean=4.6\n",
    "# standard deviation of population\n",
    "sd=0.8  \n",
    "alpha=0.05           # significance level\n"
   ]
  },
  {
   "cell_type": "code",
   "execution_count": 14,
   "id": "9276e9ca-79b6-4897-8012-5b463ef9828f",
   "metadata": {},
   "outputs": [
    {
     "name": "stdout",
     "output_type": "stream",
     "text": [
      "Z_score :  -0.601274801898418\n"
     ]
    }
   ],
   "source": [
    "# calculate the z test statistics\n",
    "z_score=(sample_mean-mean)/(sd/(sample_size**0.05))\n",
    "print(\"Z_score : \",z_score)"
   ]
  },
  {
   "cell_type": "code",
   "execution_count": 15,
   "id": "e2bead7c-9e4b-4aea-8cef-b1689cbff201",
   "metadata": {},
   "outputs": [
    {
     "name": "stdout",
     "output_type": "stream",
     "text": [
      "Critical_value :  1.6448536269514722\n"
     ]
    }
   ],
   "source": [
    "# calculate the critical value\n",
    "critical_value=stats.norm.ppf(1-alpha)\n",
    "print(\"Critical_value : \",critical_value)"
   ]
  },
  {
   "cell_type": "code",
   "execution_count": 16,
   "id": "923ab0c7-284e-4c94-a816-e751e7721255",
   "metadata": {},
   "outputs": [
    {
     "name": "stdout",
     "output_type": "stream",
     "text": [
      "Reject null hypothesis\n"
     ]
    }
   ],
   "source": [
    "# compare z score with critical value and make a decision\n",
    "if z_score<critical_value:\n",
    "    print(\"Reject null hypothesis\")\n",
    "else:\n",
    "    print(\"Fail to reject null hypothesis\")\n"
   ]
  },
  {
   "cell_type": "code",
   "execution_count": null,
   "id": "c5c80617-807e-4003-9a3a-8eb5276127c0",
   "metadata": {},
   "outputs": [],
   "source": []
  }
 ],
 "metadata": {
  "kernelspec": {
   "display_name": "Python 3 (ipykernel)",
   "language": "python",
   "name": "python3"
  },
  "language_info": {
   "codemirror_mode": {
    "name": "ipython",
    "version": 3
   },
   "file_extension": ".py",
   "mimetype": "text/x-python",
   "name": "python",
   "nbconvert_exporter": "python",
   "pygments_lexer": "ipython3",
   "version": "3.11.4"
  }
 },
 "nbformat": 4,
 "nbformat_minor": 5
}
